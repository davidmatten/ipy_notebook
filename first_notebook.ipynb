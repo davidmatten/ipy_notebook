{
 "metadata": {
  "name": "first_notebook"
 }, 
 "nbformat": 2, 
 "worksheets": [
  {
   "cells": [
    {
     "cell_type": "code", 
     "collapsed": false, 
     "input": [
      "print \"it works!\""
     ], 
     "language": "python", 
     "outputs": [
      {
       "output_type": "stream", 
       "stream": "stdout", 
       "text": [
        "it works!"
       ]
      }
     ], 
     "prompt_number": 1
    }
   ]
  }
 ]
}